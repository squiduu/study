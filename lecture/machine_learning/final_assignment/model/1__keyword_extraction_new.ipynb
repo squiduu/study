{
 "cells": [
  {
   "cell_type": "code",
   "execution_count": 14,
   "metadata": {},
   "outputs": [],
   "source": [
    "import pandas as pd\n",
    "from konlpy.tag import Komoran, Kkma, Okt\n",
    "import re\n",
    "import numpy as np\n",
    "from sklearn.feature_extraction.text import TfidfVectorizer\n",
    "from math import log\n",
    "from tqdm import tqdm\n",
    "import matplotlib\n",
    "import matplotlib.pyplot as plt\n",
    "\n",
    "tqdm.pandas()"
   ]
  },
  {
   "cell_type": "code",
   "execution_count": 3,
   "metadata": {},
   "outputs": [],
   "source": [
    "def load_data():\n",
    "    global data, stop_words, hotel_name\n",
    "\n",
    "    data = pd.read_csv(\"../database/review_pseudolabeled.csv\", encoding=\"utf-8\")\n",
    "    data = data[data[\"fixed\"].notna()]\n",
    "\n",
    "    with open(\"../vocab/kor_stop.txt\", \"r\", encoding=\"utf-8\") as f:\n",
    "        list_file = f.readlines()\n",
    "    stop_words = [line.rstrip(\"\\n\") for line in list_file]\n",
    "\n",
    "    hotel_name = list(data.groupby(\"hotelName\").count().index)"
   ]
  },
  {
   "cell_type": "code",
   "execution_count": 4,
   "metadata": {},
   "outputs": [],
   "source": [
    "def tokenize(text):\n",
    "    pos_tag = [\"NNG\", \"NNP\", \"NNB\", \"NP\", \"NR\", \"VA\", \"MM\", \"MAG\", \"XR\"]\n",
    "    tokens_pos = komoran.pos(text)\n",
    "    tokens_word = []\n",
    "    for tag in tokens_pos:\n",
    "        if tag[1] in pos_tag:\n",
    "            if tag[0] not in stop_words:\n",
    "                tokens_word.append(tag[0])\n",
    "\n",
    "    return re.sub(\"\\.\", \"\", \" \".join(tokens_word))"
   ]
  },
  {
   "cell_type": "code",
   "execution_count": 5,
   "metadata": {},
   "outputs": [],
   "source": [
    "def preprocess():\n",
    "    global data, komoran\n",
    "\n",
    "    komoran = Komoran(userdic=\"../vocab/user_dic.txt\")\n",
    "    data[\"fixed\"] = data[\"fixed\"].progress_apply(lambda x: tokenize(x))"
   ]
  },
  {
   "cell_type": "code",
   "execution_count": 6,
   "metadata": {},
   "outputs": [],
   "source": [
    "def get_term_frequency(document, word_dict=None):\n",
    "    if word_dict is None:\n",
    "        word_dict = {}\n",
    "    words = document.split()\n",
    "\n",
    "    for w in words:\n",
    "        word_dict[w] = 1 + (0 if word_dict.get(w) is None else word_dict[w])\n",
    "\n",
    "    return pd.Series(word_dict, dtype=\"float64\").sort_values(ascending=False)"
   ]
  },
  {
   "cell_type": "code",
   "execution_count": 7,
   "metadata": {},
   "outputs": [],
   "source": [
    "def get_document_frequency(documents):\n",
    "    dicts = []\n",
    "    vocab = set([])\n",
    "    df = {}\n",
    "\n",
    "    for d in documents:\n",
    "        tf = get_term_frequency(d)\n",
    "        dicts += [tf]\n",
    "        vocab = vocab | set(tf.keys())\n",
    "\n",
    "    for v in list(vocab):\n",
    "        df[v] = 0\n",
    "        for dict_d in dicts:\n",
    "            if dict_d.get(v) is not None:\n",
    "                df[v] += 1\n",
    "\n",
    "    return pd.Series(df, name=\"df\", dtype=\"float64\").sort_values(ascending=False)"
   ]
  },
  {
   "cell_type": "code",
   "execution_count": 8,
   "metadata": {},
   "outputs": [],
   "source": [
    "def get_tf(docs):\n",
    "    vocab = {}\n",
    "    tfs = []\n",
    "    for d in docs:\n",
    "        vocab = get_term_frequency(d, vocab)\n",
    "        tfs += [get_term_frequency(d)]\n",
    "\n",
    "    stats = []\n",
    "    for word, freq in vocab.items():\n",
    "        tf_v = []\n",
    "        for idx in range(len(docs)):\n",
    "            if tfs[idx].get(word) is not None:\n",
    "                tf_v += [tfs[idx][word]]\n",
    "            else:\n",
    "                tf_v += [0]\n",
    "        stats.append((word, freq, *tf_v))\n",
    "\n",
    "    column_name = [\"word\", \"totalFrequency\"]\n",
    "    for i in range(1, len(docs) + 1):\n",
    "        column_name.append(\"document\" + str(i))\n",
    "\n",
    "    return pd.DataFrame(stats, columns=column_name).sort_values(\"totalFrequency\", ascending=False)"
   ]
  },
  {
   "cell_type": "code",
   "execution_count": 9,
   "metadata": {},
   "outputs": [],
   "source": [
    "def get_ntf(matrix):\n",
    "    max_btf = max(matrix[\"totalFrequency\"])\n",
    "    total_btf = sum(matrix[\"totalFrequency\"])\n",
    "    col_names = list(matrix.columns)[2:]\n",
    "    matrix[\"ntf1\"] = matrix[\"totalFrequency\"].apply(lambda x: x / max_btf)\n",
    "\n",
    "    matrix_ntf2 = matrix[col_names].copy()\n",
    "    matrix_ntf2 = matrix_ntf2.apply(lambda x: x / total_btf, axis=1)\n",
    "    matrix_ntf2[\"ntf2\"] = matrix_ntf2.apply(sum, axis=1)\n",
    "    matrix[\"ntf2\"] = matrix_ntf2[\"ntf2\"]\n",
    "\n",
    "    return matrix[[\"word\", \"totalFrequency\", \"ntf1\", \"ntf2\"]]"
   ]
  },
  {
   "cell_type": "code",
   "execution_count": 10,
   "metadata": {},
   "outputs": [],
   "source": [
    "def get_ntf_idf(ntf, df, document_count):\n",
    "    ntf = ntf.set_index(\"word\")\n",
    "    ntf_idf = pd.concat([ntf, df], axis=1)\n",
    "\n",
    "    def get_ntf1idf(scores):\n",
    "        return (np.log(scores[\"ntf1\"]) + 1.0) * np.log(document_count / scores[\"df\"])\n",
    "\n",
    "    ntf_idf[\"ntf1_idf\"] = ntf_idf.apply(get_ntf1idf, axis=1)\n",
    "    ntf1_rank = ntf_idf[\"ntf1_idf\"].sort_values(ascending=False)\n",
    "\n",
    "    return ntf1_rank"
   ]
  },
  {
   "cell_type": "code",
   "execution_count": 11,
   "metadata": {},
   "outputs": [],
   "source": [
    "def save_keywords(label: int):\n",
    "    for h_name in tqdm(hotel_name):\n",
    "        data1 = data[data[\"hotelName\"] == h_name]\n",
    "        data2 = data1[data1[\"label\"] == label]\n",
    "        docs = data2[\"fixed\"].to_list()\n",
    "\n",
    "        document_count = len(docs)\n",
    "        tf_matrix = get_tf(docs)\n",
    "        df_matrix = get_document_frequency(docs)\n",
    "        ntf_matrix = get_ntf(tf_matrix)\n",
    "\n",
    "        ntf1_rank = get_ntf_idf(ntf_matrix, df_matrix, document_count)\n",
    "        if label == 0:\n",
    "            ntf1_rank.to_csv(\"../keywords/ntf1_\" + h_name + \"_neg.csv\", encoding=\"utf-8\")\n",
    "        else:\n",
    "            ntf1_rank.to_csv(\"../keywords/ntf1_\" + h_name + \"_pos.csv\", encoding=\"utf-8\")"
   ]
  },
  {
   "cell_type": "code",
   "execution_count": 11,
   "metadata": {},
   "outputs": [
    {
     "name": "stderr",
     "output_type": "stream",
     "text": [
      "100%|██████████| 154031/154031 [00:30<00:00, 5056.41it/s]\n",
      "100%|██████████| 38/38 [05:51<00:00,  9.24s/it]\n"
     ]
    }
   ],
   "source": [
    "load_data()\n",
    "preprocess()\n",
    "save_keywords(label=0)"
   ]
  },
  {
   "cell_type": "code",
   "execution_count": 12,
   "metadata": {},
   "outputs": [
    {
     "name": "stderr",
     "output_type": "stream",
     "text": [
      "100%|██████████| 154031/154031 [00:29<00:00, 5178.79it/s]\n",
      "100%|██████████| 38/38 [15:47<00:00, 24.94s/it]\n"
     ]
    }
   ],
   "source": [
    "load_data()\n",
    "preprocess()\n",
    "save_keywords(label=1)"
   ]
  },
  {
   "cell_type": "code",
   "execution_count": 12,
   "metadata": {},
   "outputs": [
    {
     "name": "stderr",
     "output_type": "stream",
     "text": [
      "100%|██████████| 154031/154031 [01:24<00:00, 1819.25it/s]\n"
     ]
    },
    {
     "name": "stdout",
     "output_type": "stream",
     "text": [
      "{'소리': 428, '화장실': 363, '소음': 336, '주차비': 291, '기차': 278}\n",
      "{'깨끗': 1382, '깔끔': 1093, '친절': 787, '만족': 568, '위치': 416}\n"
     ]
    }
   ],
   "source": [
    "load_data()\n",
    "preprocess()\n",
    "\n",
    "fixed_words = []\n",
    "h_name = \"페어필드 바이 메리어트 서울\"\n",
    "data_h = data[data[\"hotelName\"] == h_name]\n",
    "for i in range(len(data_h[\"fixed\"])):\n",
    "    if len(data[\"fixed\"][i]) > 0:\n",
    "        fixed_words.append(data[\"fixed\"][i].split())\n",
    "\n",
    "top_neg_keywords = {\"소리\": 0, \"화장실\": 0, \"소음\": 0, \"주차비\": 0, \"기차\": 0}\n",
    "for k, v in top_neg_keywords.items():\n",
    "    for j in range(len(fixed_words)):\n",
    "        top_neg_keywords[k] += fixed_words[j].count(k)\n",
    "\n",
    "top_pos_keywords = {\"깨끗\": 0, \"깔끔\": 0, \"친절\": 0, \"만족\": 0, \"위치\": 0}\n",
    "for k, v in top_pos_keywords.items():\n",
    "    for j in range(len(fixed_words)):\n",
    "        top_pos_keywords[k] += fixed_words[j].count(k)\n",
    "\n",
    "print(top_neg_keywords)\n",
    "print(top_pos_keywords)"
   ]
  },
  {
   "cell_type": "code",
   "execution_count": 35,
   "metadata": {},
   "outputs": [],
   "source": [
    "font_name = \"NanumGothicCoding\" \n",
    "matplotlib.rc('font', family=font_name)\n",
    "%matplotlib inline\n",
    "\n",
    "plt.rcParams[\"font.family\"] = \"Malgun Gothic\"\n",
    "plt.rcParams['font.size'] = 12.\n",
    "plt.rcParams['xtick.labelsize'] = 12.\n",
    "plt.rcParams['ytick.labelsize'] = 12.\n",
    "plt.rcParams['axes.labelsize'] = 12."
   ]
  },
  {
   "cell_type": "code",
   "execution_count": 37,
   "metadata": {},
   "outputs": [
    {
     "data": {
      "image/png": "[encoded data removed]",
      "text/plain": [
       "<Figure size 432x288 with 1 Axes>"
      ]
     },
     "metadata": {
      "needs_background": "light"
     },
     "output_type": "display_data"
    }
   ],
   "source": [
    "plt.barh(list(reversed(list(top_neg_keywords.keys()))), list(reversed(list(top_neg_keywords.values()))), color=\"red\", height=0.5)\n",
    "plt.title(\"Top 5 keywords of 페어필드 바이 메리어트 서울\")\n",
    "plt.xlabel(\"Frequency\")\n",
    "plt.ylabel(\"Keywords\")\n",
    "plt.show()"
   ]
  },
  {
   "cell_type": "code",
   "execution_count": 38,
   "metadata": {},
   "outputs": [
    {
     "data": {
      "image/png": "[encoded data removed]",
      "text/plain": [
       "<Figure size 432x288 with 1 Axes>"
      ]
     },
     "metadata": {
      "needs_background": "light"
     },
     "output_type": "display_data"
    }
   ],
   "source": [
    "plt.barh(list(reversed(list(top_pos_keywords.keys()))), list(reversed(list(top_pos_keywords.values()))), color=\"green\", height=0.5)\n",
    "plt.title(\"Top 5 keywords of 페어필드 바이 메리어트 서울\")\n",
    "plt.xlabel(\"Frequency\")\n",
    "plt.ylabel(\"Keywords\")\n",
    "plt.show()"
   ]
  }
 ],
 "metadata": {
  "interpreter": {
   "hash": "a954e5682a7ae046d675dd2a88d0ef74e841537b0738b894c81de574069854f3"
  },
  "kernelspec": {
   "display_name": "Python 3.7.11 64-bit ('pyProj': conda)",
   "language": "python",
   "name": "python3"
  },
  "language_info": {
   "codemirror_mode": {
    "name": "ipython",
    "version": 3
   },
   "file_extension": ".py",
   "mimetype": "text/x-python",
   "name": "python",
   "nbconvert_exporter": "python",
   "pygments_lexer": "ipython3",
   "version": "3.8.10"
  },
  "orig_nbformat": 4
 },
 "nbformat": 4,
 "nbformat_minor": 2
}
